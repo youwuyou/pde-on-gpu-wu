{
 "cells": [
  {
   "cell_type": "markdown",
   "metadata": {},
   "source": [
    "## Exercise 4 _(optional)_ - **Orbital around a centre of mass**"
   ]
  },
  {
   "cell_type": "markdown",
   "metadata": {},
   "source": [
    "The goal of this exercise is to consolidate:\n",
    "- code structure `# Physics, # Numerics, # Time loop, # Visualisation`\n",
    "- physics implementation\n",
    "- update rule\n",
    "\n",
    "The goal of this exercise is to reproduce an orbital around a fixed centre of mass, which is also the origin of the coordinate system (e.g. Earth - Sun). To solve this problem, you will have to know about the definition of velocity, Newton's second law and universal gravitation's law:\n",
    "$$\n",
    "\\frac{dr_i}{dt}=v_i \\\\[10pt]\n",
    "\\frac{dv_i}{dt}=\\frac{F_i}{m} \\\\[10pt]\n",
    "F_i = -G\\frac{mM}{|r_i|^2}\\frac{r_i}{|r_i|}~,\n",
    "$$\n",
    "where $r_i$ is the position vector, $v_i$ the velocity vector, $F_i$ the force vector, $G$ is the gravitational constant, $m$ is the mass of the orbiting object, $M$ is the mass of the centre of mass and $|r_i|$ is the norm of the position vector.\n",
    "\n",
    "---\n",
    "\n",
    "The sample code you can use to get started looks like:"
   ]
  },
  {
   "cell_type": "code",
   "execution_count": 2,
   "metadata": {},
   "outputs": [],
   "source": [
    "using Plots"
   ]
  },
  {
   "cell_type": "code",
   "execution_count": 3,
   "metadata": {},
   "outputs": [
    {
     "data": {
      "text/plain": [
       "norm (generic function with 1 method)"
      ]
     },
     "metadata": {},
     "output_type": "display_data"
    }
   ],
   "source": [
    "# helper function for obtaining |r_i|\n",
    "@views function norm(x::T, y::T) where T<:Real\n",
    "    return sqrt(x^2 + y^2)\n",
    "end"
   ]
  },
  {
   "cell_type": "code",
   "execution_count": null,
   "metadata": {},
   "outputs": [],
   "source": [
    "@views function orbital()\n",
    "    # Physics\n",
    "    # for safe start (G, m, M) := (1., 1., 1.)\n",
    "    G    = 1.0\n",
    "    m    = 1.\n",
    "    M    = 1.\n",
    "    tt   = 6.0   # total time\n",
    "\n",
    "    # Numerics\n",
    "    dt   = 0.05  # timestep\n",
    "    nt   = Int(cld(tt, dt))\n",
    "\n",
    "    # Initial conditions\n",
    "    xpos = 0.\n",
    "    ypos = 1.\n",
    "    Vx   = 1.\n",
    "    Vy   = 0.\n",
    "\n",
    "    # Time loop\n",
    "    for i = 1:nt\n",
    "        F = - G * m * M / norm(xpos, ypos)^2\n",
    "        Φ = atan(ypos/xpos)\n",
    "        println(Φ)\n",
    "\n",
    "        Vx = Vx + (F * cosd(Φ))/ m * dt\n",
    "        Vy = Vy + (F * sind(Φ))/ m * dt\n",
    "        \n",
    "        xpos = xpos + Vx * dt\n",
    "        ypos = ypos + Vy * dt\n",
    "\n",
    "        # Visualisation\n",
    "        display(scatter!([xpos], [ypos], title=\"$i\",\n",
    "                         aspect_ratio=1, markersize=5, markercolor=:blue, framestyle=:box,\n",
    "                         legend=:none, xlims=(-1.1, 1.1), ylims=(-1.1, 1.1)))\n",
    "    end\n",
    "    return\n",
    "end\n",
    "\n",
    "orbital()"
   ]
  },
  {
   "cell_type": "markdown",
   "metadata": {},
   "source": [
    "### Question 1\n",
    "\n",
    "For a safe start, set all physical parameters $(G, m, M)$ equal to 1, and use as initial conditions $x_0=0$ and $y_0=1$, and $v_x=1$ and $v_y=0$. You should obtain a circular orbital.\n",
    "\n",
    "Report the last $(x,y)$ position of the Earth for a total time of `tt=6.0` with a time step `dt=0.05`."
   ]
  },
  {
   "cell_type": "markdown",
   "metadata": {},
   "source": [
    "> 💡 hint:\n",
    "> - $r_i=[x,y]$\n",
    "> - $|r_i|=\\sqrt{x^2 + y^2}$\n",
    "> - $r_i/|r_i|$ stands for the unity vector (of length 1) pointing from $m$ towards $M$"
   ]
  },
  {
   "cell_type": "markdown",
   "metadata": {},
   "source": [
    "### Question 2\n",
    "\n",
    "Head to e.g. Wikipedia and look up for approximate of real values and asses whether the Earth indeed needs ~365 days to achieve one rotation around the Sun."
   ]
  }
 ],
 "metadata": {
  "kernelspec": {
   "display_name": "Julia 1.8.1",
   "language": "julia",
   "name": "julia-1.8"
  },
  "language_info": {
   "file_extension": ".jl",
   "mimetype": "application/julia",
   "name": "julia",
   "version": "1.8.1"
  }
 },
 "nbformat": 4,
 "nbformat_minor": 3
}
