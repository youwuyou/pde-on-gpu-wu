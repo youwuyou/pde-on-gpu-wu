{
 "cells": [
  {
   "cell_type": "markdown",
   "metadata": {},
   "source": [
    "## Exercise 3 - **Nonlinear problems**"
   ]
  },
  {
   "cell_type": "markdown",
   "metadata": {},
   "source": [
    "The goal of this exercise is to consolidate:\n",
    "- Nonlinear processes\n",
    "- Advection and diffusion"
   ]
  },
  {
   "cell_type": "markdown",
   "metadata": {},
   "source": [
    "The goal of this exercise is to program two short 1D codes to experiment with nonlinear processes, namely nonlinear diffusion and advection in order to reproduce the animations displayed in the [nonlinear equations section](#nonlinear-equations) of the lecture 2."
   ]
  },
  {
   "cell_type": "markdown",
   "metadata": {},
   "source": [
    "### Task 1\n",
    "\n",
    "Referring to the [nonlinear equations section](#nonlinear_equations) in lecture 2, implement the nonlinear power-law type parabolic PDE in 1D:\n",
    "\n",
    "$$\n",
    "\\frac{\\partial C}{\\partial t} + D\\frac{\\partial^2 C^n}{\\partial x^2} = 0\n",
    "$$\n",
    "\n",
    "Use one of your previous scripts or the [`diffusion_1D.jl`](https://github.com/eth-vaw-glaciology/course-101-0250-00/blob/main/scripts/) to get you started. Use the following parameters:\n",
    "\n",
    "```julia\n",
    "# physics\n",
    "lx   = 20.0\n",
    "dc   = 1.0\n",
    "n    = 4\n",
    "# numerics\n",
    "nx   = 200\n",
    "nvis = 50\n",
    "# derived numerics\n",
    "dx   = lx/nx\n",
    "dt   = dx^2/dc/10\n",
    "nt   = nx^2 ÷ 5\n",
    "xc   = LinRange(dx/2,lx-dx/2,nx)\n",
    "```\n",
    "and initialising your quantity to diffuse as `0.5cos(9π*xc/lx)+0.5`.\n",
    "\n",
    "Make sure your code reproduces the animation from the course."
   ]
  },
  {
   "cell_type": "markdown",
   "metadata": {},
   "source": [
    "### Task 2\n",
    "\n",
    "Referring to the [nonlinear equations section](#nonlinear_equations) in lecture 2, implement the nonlinear advection _inviscid Burgers'_ equation in 1D:\n",
    "\n",
    "$$\n",
    "\\frac{\\partial C}{\\partial t} + \\frac{\\partial C^n}{\\partial x} = 0\n",
    "$$\n",
    "\n",
    "Use one of your previous scripts or the [`diffusion_1D.jl`](https://github.com/eth-vaw-glaciology/course-101-0250-00/blob/main/scripts/) to get you started. Use the following parameters:\n",
    "\n",
    "```julia\n",
    "# physics\n",
    "lx   = 20.0\n",
    "vx   = 1.0\n",
    "n    = 2\n",
    "# numerics\n",
    "nx   = 1000\n",
    "nvis = 15\n",
    "# derived numerics\n",
    "dx   = lx/nx\n",
    "dt   = dx/abs(vx)/2\n",
    "nt   = 2nx\n",
    "xc   = LinRange(dx/2,lx-dx/2,nx)\n",
    "```\n",
    "As initial condition, define a Gaussian profile of the quantity $C$ of amplitude and standard deviation equal to 1, located at `lx/4`.\n",
    "\n",
    "Make sure your code reproduces the animation from the course."
   ]
  }
 ],
 "metadata": {
  "kernelspec": {
   "display_name": "Julia 1.8.1",
   "language": "julia",
   "name": "julia-1.8"
  },
  "language_info": {
   "file_extension": ".jl",
   "mimetype": "application/julia",
   "name": "julia",
   "version": "1.8.1"
  }
 },
 "nbformat": 4,
 "nbformat_minor": 3
}
